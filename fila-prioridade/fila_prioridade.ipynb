{
 "cells": [
  {
   "cell_type": "code",
   "execution_count": 1,
   "id": "552a0928-2a84-4600-ac20-7a38e5ffddd0",
   "metadata": {},
   "outputs": [],
   "source": [
    "from fila_prioridade import No\n",
    "from fila_prioridade import Fila"
   ]
  },
  {
   "cell_type": "code",
   "execution_count": 2,
   "id": "07b2c4f7-2d59-49f1-b818-e7846149defa",
   "metadata": {},
   "outputs": [
    {
     "data": {
      "text/plain": [
       "\" \\n       if self.tail:\\n    self.tail.proximo = no\\nself.tail = no\\n   # self.cabeca.proximo = self.tail\\n#else:   \\nif no.idade >= 65:\\n    no.prioridade = 'urgente'\\n    if self.cabeca.prioridade == 'urgente':\\n        no.proximo = self.tail\\n        self.tail = no\\n    else:\\n        no.proximo = self.cabeca\\n        self.cabeca = no\\nelse:\\n    self.tail = no\""
      ]
     },
     "execution_count": 2,
     "metadata": {},
     "output_type": "execute_result"
    }
   ],
   "source": [
    "        \"\"\" \n",
    "       if self.tail:\n",
    "            self.tail.proximo = no\n",
    "        self.tail = no\n",
    "           # self.cabeca.proximo = self.tail\n",
    "        #else:   \n",
    "        if no.idade >= 65:\n",
    "            no.prioridade = 'urgente'\n",
    "            if self.cabeca.prioridade == 'urgente':\n",
    "                no.proximo = self.tail\n",
    "                self.tail = no\n",
    "            else:\n",
    "                no.proximo = self.cabeca\n",
    "                self.cabeca = no\n",
    "        else:\n",
    "            self.tail = no\"\"\""
   ]
  },
  {
   "cell_type": "code",
   "execution_count": 3,
   "id": "e8a0971c-d40c-4235-92d1-0c82e4401e4e",
   "metadata": {},
   "outputs": [],
   "source": [
    "fila = Fila()"
   ]
  },
  {
   "cell_type": "code",
   "execution_count": 4,
   "id": "83313963-80b5-45c5-b72b-0dfc53a037b2",
   "metadata": {},
   "outputs": [],
   "source": [
    "fila.append(19)"
   ]
  },
  {
   "cell_type": "code",
   "execution_count": 5,
   "id": "bc513739-0a4d-455a-ba1f-758c6b93b406",
   "metadata": {},
   "outputs": [],
   "source": [
    "fila.append(27)"
   ]
  },
  {
   "cell_type": "code",
   "execution_count": 6,
   "id": "0c613ea6-8488-4983-afae-8ac1588d554b",
   "metadata": {},
   "outputs": [],
   "source": [
    "fila.append(67, 'Preferencial')"
   ]
  },
  {
   "cell_type": "code",
   "execution_count": 7,
   "id": "a879c494-ae3d-47c4-85f9-e9e98e0baa99",
   "metadata": {},
   "outputs": [
    {
     "data": {
      "text/plain": [
       "[19, 27, 67]"
      ]
     },
     "execution_count": 7,
     "metadata": {},
     "output_type": "execute_result"
    }
   ],
   "source": [
    "fila.ordenar_fila()"
   ]
  },
  {
   "cell_type": "code",
   "execution_count": 8,
   "id": "9e4b7557-561c-49f2-b1e9-f194a9eebcba",
   "metadata": {},
   "outputs": [],
   "source": [
    "fila.append(33)"
   ]
  },
  {
   "cell_type": "code",
   "execution_count": 9,
   "id": "ef45527d-874a-4fbc-8d13-f74758706d2b",
   "metadata": {},
   "outputs": [],
   "source": [
    "ft=fila.ordenar_fila()"
   ]
  },
  {
   "cell_type": "code",
   "execution_count": 10,
   "id": "ed992477-adb6-4aba-8097-8d4c5cc2bb18",
   "metadata": {},
   "outputs": [
    {
     "name": "stdout",
     "output_type": "stream",
     "text": [
      "None\n"
     ]
    }
   ],
   "source": [
    "print(fila.mostrar())"
   ]
  },
  {
   "cell_type": "code",
   "execution_count": 11,
   "id": "33248088-f754-4d0f-909b-20f0b742dda7",
   "metadata": {},
   "outputs": [
    {
     "data": {
      "text/plain": [
       "'Padrão'"
      ]
     },
     "execution_count": 11,
     "metadata": {},
     "output_type": "execute_result"
    }
   ],
   "source": [
    "ft[0].prioridade"
   ]
  },
  {
   "cell_type": "code",
   "execution_count": 12,
   "id": "4b5d46c6-bee4-416c-9bb2-bc1d5168b4ad",
   "metadata": {},
   "outputs": [
    {
     "data": {
      "text/plain": [
       "[19, 27, 67, 33]"
      ]
     },
     "execution_count": 12,
     "metadata": {},
     "output_type": "execute_result"
    }
   ],
   "source": [
    "ft"
   ]
  },
  {
   "cell_type": "code",
   "execution_count": 13,
   "id": "f94b8379-51c0-44ab-b82d-2092370e8117",
   "metadata": {},
   "outputs": [
    {
     "data": {
      "text/plain": [
       "'Preferencial'"
      ]
     },
     "execution_count": 13,
     "metadata": {},
     "output_type": "execute_result"
    }
   ],
   "source": [
    "ft[2].prioridade"
   ]
  },
  {
   "cell_type": "code",
   "execution_count": 14,
   "id": "1ac26c14-b9a0-482d-afe7-ea684dce58f3",
   "metadata": {},
   "outputs": [
    {
     "data": {
      "text/plain": [
       "[67, 27, 33]"
      ]
     },
     "execution_count": 14,
     "metadata": {},
     "output_type": "execute_result"
    }
   ],
   "source": [
    "fila.fila_prioridade(ft)"
   ]
  },
  {
   "cell_type": "code",
   "execution_count": null,
   "id": "22e99368-87eb-42e9-9114-800540f6d39c",
   "metadata": {},
   "outputs": [],
   "source": []
  }
 ],
 "metadata": {
  "kernelspec": {
   "display_name": "Python 3 (ipykernel)",
   "language": "python",
   "name": "python3"
  },
  "language_info": {
   "codemirror_mode": {
    "name": "ipython",
    "version": 3
   },
   "file_extension": ".py",
   "mimetype": "text/x-python",
   "name": "python",
   "nbconvert_exporter": "python",
   "pygments_lexer": "ipython3",
   "version": "3.10.12"
  }
 },
 "nbformat": 4,
 "nbformat_minor": 5
}
