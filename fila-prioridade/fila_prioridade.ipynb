{
 "cells": [
  {
   "cell_type": "code",
   "execution_count": 1,
   "id": "552a0928-2a84-4600-ac20-7a38e5ffddd0",
   "metadata": {},
   "outputs": [],
   "source": [
    "from fila_prioridade import No\n",
    "from fila_prioridade import Fila"
   ]
  },
  {
   "cell_type": "code",
   "execution_count": 2,
   "id": "e8a0971c-d40c-4235-92d1-0c82e4401e4e",
   "metadata": {},
   "outputs": [],
   "source": [
    "fila = Fila()"
   ]
  },
  {
   "cell_type": "code",
   "execution_count": 3,
   "id": "83313963-80b5-45c5-b72b-0dfc53a037b2",
   "metadata": {},
   "outputs": [],
   "source": [
    "fila.append(19)\n",
    "fila.append(27)\n",
    "fila.append(67, 'Preferencial')\n",
    "fila.append(33)\n",
    "fila.append(77, 'Preferencial')"
   ]
  },
  {
   "cell_type": "code",
   "execution_count": 4,
   "id": "a879c494-ae3d-47c4-85f9-e9e98e0baa99",
   "metadata": {},
   "outputs": [
    {
     "data": {
      "text/plain": [
       "[19, 27, 67, 33, 77]"
      ]
     },
     "execution_count": 4,
     "metadata": {},
     "output_type": "execute_result"
    }
   ],
   "source": [
    "fila.ordenar_fila()"
   ]
  },
  {
   "cell_type": "code",
   "execution_count": 5,
   "id": "9e4b7557-561c-49f2-b1e9-f194a9eebcba",
   "metadata": {},
   "outputs": [],
   "source": [
    "ft=fila.ordenar_fila()"
   ]
  },
  {
   "cell_type": "code",
   "execution_count": 6,
   "id": "ef45527d-874a-4fbc-8d13-f74758706d2b",
   "metadata": {},
   "outputs": [
    {
     "data": {
      "text/plain": [
       "[67, 77, 19, 27, 33]"
      ]
     },
     "execution_count": 6,
     "metadata": {},
     "output_type": "execute_result"
    }
   ],
   "source": [
    "ft=fila.ordenar_fila()\n",
    "fila.fila_prioridade(ft)"
   ]
  },
  {
   "cell_type": "code",
   "execution_count": 7,
   "id": "1aa5e0eb-5523-49d2-aedd-3f6d03a17993",
   "metadata": {},
   "outputs": [
    {
     "data": {
      "text/plain": [
       "[67, 77, 19, 27, 33]"
      ]
     },
     "execution_count": 7,
     "metadata": {},
     "output_type": "execute_result"
    }
   ],
   "source": [
    "fila.atender_fila()"
   ]
  },
  {
   "cell_type": "code",
   "execution_count": 8,
   "id": "761ef98c-3f91-40ac-92ac-d144c8d805db",
   "metadata": {},
   "outputs": [
    {
     "data": {
      "text/plain": [
       "[77, 19, 27, 33]"
      ]
     },
     "execution_count": 8,
     "metadata": {},
     "output_type": "execute_result"
    }
   ],
   "source": [
    "fila.atender_fila()"
   ]
  },
  {
   "cell_type": "code",
   "execution_count": 9,
   "id": "6040cfe4-ba5a-4696-ba0d-1a3a6fd4c124",
   "metadata": {},
   "outputs": [
    {
     "data": {
      "text/plain": [
       "[19, 27, 33]"
      ]
     },
     "execution_count": 9,
     "metadata": {},
     "output_type": "execute_result"
    }
   ],
   "source": [
    "fila.atender_fila()"
   ]
  },
  {
   "cell_type": "code",
   "execution_count": 10,
   "id": "a07115df-276f-4f65-922e-ee75f0cde154",
   "metadata": {},
   "outputs": [
    {
     "data": {
      "text/plain": [
       "[27, 33]"
      ]
     },
     "execution_count": 10,
     "metadata": {},
     "output_type": "execute_result"
    }
   ],
   "source": [
    "fila.atender_fila()"
   ]
  },
  {
   "cell_type": "code",
   "execution_count": 11,
   "id": "841b5d8d-65f4-4a2c-a054-66a0b59fc8d3",
   "metadata": {},
   "outputs": [
    {
     "data": {
      "text/plain": [
       "[33]"
      ]
     },
     "execution_count": 11,
     "metadata": {},
     "output_type": "execute_result"
    }
   ],
   "source": [
    "fila.atender_fila()"
   ]
  },
  {
   "cell_type": "code",
   "execution_count": 12,
   "id": "daf34d3d-f816-45bc-be2a-42c3b416e97b",
   "metadata": {},
   "outputs": [
    {
     "data": {
      "text/plain": [
       "[]"
      ]
     },
     "execution_count": 12,
     "metadata": {},
     "output_type": "execute_result"
    }
   ],
   "source": [
    "fila.atender_fila()"
   ]
  },
  {
   "cell_type": "code",
   "execution_count": null,
   "id": "4c167868-8612-4752-94ad-7ad89f433fd8",
   "metadata": {},
   "outputs": [],
   "source": []
  }
 ],
 "metadata": {
  "kernelspec": {
   "display_name": "Python 3 (ipykernel)",
   "language": "python",
   "name": "python3"
  },
  "language_info": {
   "codemirror_mode": {
    "name": "ipython",
    "version": 3
   },
   "file_extension": ".py",
   "mimetype": "text/x-python",
   "name": "python",
   "nbconvert_exporter": "python",
   "pygments_lexer": "ipython3",
   "version": "3.10.12"
  }
 },
 "nbformat": 4,
 "nbformat_minor": 5
}
